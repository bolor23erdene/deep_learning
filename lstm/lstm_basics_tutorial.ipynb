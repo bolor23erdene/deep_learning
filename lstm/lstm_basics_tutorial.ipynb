{
  "cells": [
    {
      "cell_type": "markdown",
      "metadata": {},
      "source": [
        "https://pytorch.org/tutorials/beginner/nlp/sequence_models_tutorial.html"
      ]
    },
    {
      "cell_type": "code",
      "execution_count": 1,
      "metadata": {},
      "outputs": [
        {
          "name": "stderr",
          "output_type": "stream",
          "text": [
            "/opt/anaconda3/envs/pytorch/lib/python3.9/site-packages/tqdm/auto.py:22: TqdmWarning: IProgress not found. Please update jupyter and ipywidgets. See https://ipywidgets.readthedocs.io/en/stable/user_install.html\n",
            "  from .autonotebook import tqdm as notebook_tqdm\n"
          ]
        },
        {
          "data": {
            "text/plain": [
              "<torch._C.Generator at 0x7f96e04f5590>"
            ]
          },
          "execution_count": 1,
          "metadata": {},
          "output_type": "execute_result"
        }
      ],
      "source": [
        "import torch\n",
        "import torch.nn as nn\n",
        "import torch.nn.functional as F\n",
        "import torch.optim as optim\n",
        "\n",
        "torch.manual_seed(1)"
      ]
    },
    {
      "cell_type": "code",
      "execution_count": 10,
      "metadata": {},
      "outputs": [
        {
          "name": "stdout",
          "output_type": "stream",
          "text": [
            "torch.Size([1, 3])\n",
            "shape:  torch.Size([1, 1, 3])\n",
            "shape:  torch.Size([1, 1, 3])\n",
            "shape:  torch.Size([1, 1, 3])\n",
            "shape:  torch.Size([1, 1, 3])\n",
            "shape:  torch.Size([1, 1, 3])\n"
          ]
        }
      ],
      "source": [
        "lstm = nn.LSTM(3, 3)  # Input dim is 3, output dim is 3\n",
        "inputs = [torch.randn(1, 3) for _ in range(5)]  # make a sequence of length 5\n",
        "\n",
        "# inputs = ((1x3)x5)\n",
        "print(torch.randn(1,3).shape)\n",
        "\n",
        "\n",
        "\"\"\" \n",
        "LSTM dimensions:\n",
        "\n",
        "The first axis is the sequence itself.\n",
        "The second indexes instances in the mini-batch.\n",
        "The third indexes elements of the input. \n",
        "\"\"\"\n",
        "\n",
        "# initialize the hidden state.\n",
        "hidden = (torch.randn(1, 1, 3), # hidden state \n",
        "          torch.randn(1, 1, 3)) # cell state  \n",
        "\n",
        "for i in inputs: # going through each sequence where each sequence has 3 words \n",
        "    # Step through the sequence one element at a time.\n",
        "    # after each step, hidden contains the hidden state.\n",
        "    print(\"shape: \", i.view(1, 1, -1).shape) # -> convert the 1x3->1x1x3\n",
        "    out, hidden = lstm(i.view(1, 1, -1), hidden) # hidden state of the LSTM \n"
      ]
    },
    {
      "cell_type": "code",
      "execution_count": 11,
      "metadata": {},
      "outputs": [
        {
          "name": "stdout",
          "output_type": "stream",
          "text": [
            "tensor([[[-0.1309,  0.4328, -0.3984]],\n",
            "\n",
            "        [[-0.0514,  0.4477,  0.1397]],\n",
            "\n",
            "        [[-0.2294,  0.0784, -0.3161]],\n",
            "\n",
            "        [[-0.0362,  0.3877, -0.1652]],\n",
            "\n",
            "        [[-0.1349,  0.2108, -0.2128]]], grad_fn=<StackBackward0>)\n",
            "(tensor([[[-0.1349,  0.2108, -0.2128]]], grad_fn=<StackBackward0>), tensor([[[-0.4776,  0.5837, -0.7949]]], grad_fn=<StackBackward0>))\n"
          ]
        }
      ],
      "source": [
        "\n",
        "# alternatively, we can do the entire sequence all at once.\n",
        "\n",
        "# the first value returned by LSTM is all of the hidden states throughout the sequence. \n",
        "# the second is just the most recent hidden state\n",
        "# (compare the last slice of \"out\" with \"hidden\" below, they are the same)\n",
        "# The reason for this is that:\n",
        "# \"out\" will give you access to all hidden states in the sequence\n",
        "# \"hidden\" will allow you to continue the sequence and backpropagate,\n",
        "# by passing it as an argument  to the lstm at a later time\n",
        "# Add the extra 2nd dimension\n",
        "inputs = torch.cat(inputs).view(len(inputs), 1, -1)\n",
        "hidden = (torch.randn(1, 1, 3), torch.randn(1, 1, 3))  # clean out hidden state\n",
        "out, hidden = lstm(inputs, hidden)\n",
        "print(out)\n",
        "print(hidden)"
      ]
    },
    {
      "cell_type": "code",
      "execution_count": 26,
      "metadata": {},
      "outputs": [],
      "source": [
        "https://pytorch.org/tutorials/beginner/nlp/sequence_models_tutorial.html"
      ]
    },
    {
      "cell_type": "code",
      "execution_count": 13,
      "metadata": {},
      "outputs": [],
      "source": [
        "def prepare_sequence(seq, to_ix):\n",
        "    idxs = [to_ix[w] for w in seq]\n",
        "    return torch.tensor(idxs, dtype=torch.long)"
      ]
    },
    {
      "cell_type": "code",
      "execution_count": 14,
      "metadata": {},
      "outputs": [],
      "source": [
        "training_data = [\n",
        "    # Tags are: DET - determiner; NN - noun; V - verb\n",
        "    # For example, the word \"The\" is a determiner\n",
        "    (\"The dog ate the apple\".split(), [\"DET\", \"NN\", \"V\", \"DET\", \"NN\"]),\n",
        "    (\"Everybody read that book\".split(), [\"NN\", \"V\", \"DET\", \"NN\"])\n",
        "]"
      ]
    },
    {
      "cell_type": "code",
      "execution_count": 15,
      "metadata": {},
      "outputs": [
        {
          "name": "stdout",
          "output_type": "stream",
          "text": [
            "{'The': 0, 'dog': 1, 'ate': 2, 'the': 3, 'apple': 4, 'Everybody': 5, 'read': 6, 'that': 7, 'book': 8}\n"
          ]
        }
      ],
      "source": [
        "word_to_ix = {}\n",
        "# For each words-list (sentence) and tags-list in each tuple of training_data\n",
        "for sent, tags in training_data:\n",
        "    for word in sent:\n",
        "        if word not in word_to_ix:  # word has not been assigned an index yet\n",
        "            word_to_ix[word] = len(word_to_ix)  # Assign each word with a unique index\n",
        "print(word_to_ix)"
      ]
    },
    {
      "cell_type": "code",
      "execution_count": 22,
      "metadata": {},
      "outputs": [],
      "source": [
        "tag_to_ix = {\"DET\": 0, \"NN\": 1, \"V\": 2}  # Assign each tag with a unique index\n",
        "\n",
        "# These will usually be more like 32 or 64 dimensional.\n",
        "# We will keep them small, so we can see how the weights change as we train.\n",
        "EMBEDDING_DIM = 6\n",
        "HIDDEN_DIM = 10"
      ]
    },
    {
      "cell_type": "code",
      "execution_count": 23,
      "metadata": {},
      "outputs": [],
      "source": [
        "\"\"\" \n",
        "LSTM dimensions:\n",
        "\n",
        "The first axis is the sequence itself.\n",
        "The second indexes instances in the mini-batch.\n",
        "The third indexes elements of the input. \n",
        "\"\"\"\n",
        "\n",
        "class LSTMTagger(nn.Module):\n",
        "    \n",
        "    def __init__(self, embedding_dim, hidden_dim, vocab_size, tagset_size):\n",
        "        super(LSTMTagger, self).__init__()\n",
        "        self.hidden_dim = hidden_dim\n",
        "\n",
        "        self.word_embeddings = nn.Embedding(vocab_size, embedding_dim)\n",
        "\n",
        "        # The LSTM takes word embeddings as inputs, and outputs hidden states\n",
        "        # with dimensionality hidden_dim.\n",
        "        self.lstm = nn.LSTM(embedding_dim, hidden_dim)\n",
        "\n",
        "        # The linear layer that maps from hidden state space to tag space\n",
        "        self.hidden2tag = nn.Linear(hidden_dim, tagset_size)\n",
        "\n",
        "    def forward(self, sentence):\n",
        "        embeds = self.word_embeddings(sentence)\n",
        "        lstm_out, _ = self.lstm(embeds.view(len(sentence), 1, -1)) # sequence_len x 1 x 10=hidden_dim - there will be 5=seq_len hidden layers\n",
        "        tag_space = self.hidden2tag(lstm_out.view(len(sentence), -1)) #in: 5x10 hidden: 10x3 out: 5x3\n",
        "        tag_scores = F.log_softmax(tag_space, dim=1) #in 5x3 #out 5x3\n",
        "        \n",
        "        print(\"embeds: \", embeds.shape)\n",
        "        print(\"lstm_out: \", lstm_out.shape)\n",
        "        print(\"tag_space: \", tag_space.shape)\n",
        "        print(\"tag_scores: \", tag_scores.shape)\n",
        "        \n",
        "        return tag_scores"
      ]
    },
    {
      "cell_type": "code",
      "execution_count": 24,
      "metadata": {},
      "outputs": [],
      "source": [
        "model = LSTMTagger(EMBEDDING_DIM, HIDDEN_DIM, len(word_to_ix), len(tag_to_ix))\n",
        "loss_function = nn.NLLLoss()\n",
        "optimizer = optim.SGD(model.parameters(), lr=0.1)\n"
      ]
    },
    {
      "cell_type": "code",
      "execution_count": 27,
      "metadata": {},
      "outputs": [
        {
          "name": "stdout",
          "output_type": "stream",
          "text": [
            "embeds:  torch.Size([5, 6])\n",
            "lstm_out:  torch.Size([5, 1, 10])\n",
            "tag_space:  torch.Size([5, 3])\n",
            "tag_scores:  torch.Size([5, 3])\n",
            "tensor([[-1.3326, -0.8771, -1.1387],\n",
            "        [-1.3515, -0.8705, -1.1319],\n",
            "        [-1.3289, -0.9208, -1.0875],\n",
            "        [-1.2906, -0.8914, -1.1557],\n",
            "        [-1.2828, -0.9596, -1.0797]])\n"
          ]
        }
      ],
      "source": [
        "\n",
        "# See what the scores are before training\n",
        "# Note that element i,j of the output is the score for tag j for word i.\n",
        "# Here we don't need to train, so the code is wrapped in torch.no_grad()\n",
        "with torch.no_grad():\n",
        "    inputs = prepare_sequence(training_data[0][0], word_to_ix)\n",
        "    tag_scores = model(inputs)\n",
        "    print(tag_scores)\n"
      ]
    },
    {
      "cell_type": "code",
      "execution_count": 30,
      "metadata": {},
      "outputs": [
        {
          "name": "stdout",
          "output_type": "stream",
          "text": [
            "embeds:  torch.Size([5, 6])\n",
            "lstm_out:  torch.Size([5, 1, 10])\n",
            "tag_space:  torch.Size([5, 3])\n",
            "tag_scores:  torch.Size([5, 3])\n",
            "SHAPES FOR LOSS:  torch.Size([5, 3]) torch.Size([5])\n",
            "embeds:  torch.Size([4, 6])\n",
            "lstm_out:  torch.Size([4, 1, 10])\n",
            "tag_space:  torch.Size([4, 3])\n",
            "tag_scores:  torch.Size([4, 3])\n",
            "SHAPES FOR LOSS:  torch.Size([4, 3]) torch.Size([4])\n"
          ]
        }
      ],
      "source": [
        "\n",
        "for epoch in range(1):  # again, normally you would NOT do 300 epochs, it is toy data\n",
        "    for sentence, tags in training_data:\n",
        "        # Step 1. Remember that Pytorch accumulates gradients.\n",
        "        # We need to clear them out before each instance\n",
        "        model.zero_grad()\n",
        "\n",
        "        # Step 2. Get our inputs ready for the network, that is, turn them into\n",
        "        # Tensors of word indices.\n",
        "        sentence_in = prepare_sequence(sentence, word_to_ix)\n",
        "        targets = prepare_sequence(tags, tag_to_ix)\n",
        "\n",
        "        # Step 3. Run our forward pass.\n",
        "        tag_scores = model(sentence_in)\n",
        "\n",
        "        # Step 4. Compute the loss, gradients, and update the parameters by\n",
        "        #  calling optimizer.step()\n",
        "        print(\"SHAPES FOR LOSS: \", tag_scores.shape, targets.shape)\n",
        "        loss = loss_function(tag_scores, targets)\n",
        "        loss.backward()\n",
        "        optimizer.step()\n"
      ]
    },
    {
      "cell_type": "code",
      "execution_count": 31,
      "metadata": {},
      "outputs": [
        {
          "name": "stdout",
          "output_type": "stream",
          "text": [
            "embeds:  torch.Size([5, 6])\n",
            "lstm_out:  torch.Size([5, 1, 10])\n",
            "tag_space:  torch.Size([5, 3])\n",
            "tag_scores:  torch.Size([5, 3])\n",
            "tensor([[-1.2999, -0.8514, -1.2019],\n",
            "        [-1.3227, -0.8409, -1.1964],\n",
            "        [-1.3089, -0.8920, -1.1393],\n",
            "        [-1.2398, -0.8715, -1.2301],\n",
            "        [-1.2664, -0.9197, -1.1409]])\n"
          ]
        }
      ],
      "source": [
        "\n",
        "# See what the scores are after training\n",
        "with torch.no_grad():\n",
        "    inputs = prepare_sequence(training_data[0][0], word_to_ix)\n",
        "    tag_scores = model(inputs)\n",
        "\n",
        "    # The sentence is \"the dog ate the apple\".  i,j corresponds to score for tag j\n",
        "    # for word i. The predicted tag is the maximum scoring tag.\n",
        "    # Here, we can see the predicted sequence below is 0 1 2 0 1\n",
        "    # since 0 is index of the maximum value of row 1,\n",
        "    # 1 is the index of maximum value of row 2, etc.\n",
        "    # Which is DET NOUN VERB DET NOUN, the correct sequence!\n",
        "    print(tag_scores)"
      ]
    },
    {
      "cell_type": "code",
      "execution_count": null,
      "metadata": {},
      "outputs": [],
      "source": []
    }
  ],
  "metadata": {
    "interpreter": {
      "hash": "f5b916051ec391ef3c1c0123575e59cad2c35863d294dd079abc5845c0e5babb"
    },
    "kernelspec": {
      "display_name": "Python 3.9.12 ('pytorch')",
      "language": "python",
      "name": "python3"
    },
    "language_info": {
      "codemirror_mode": {
        "name": "ipython",
        "version": 3
      },
      "file_extension": ".py",
      "mimetype": "text/x-python",
      "name": "python",
      "nbconvert_exporter": "python",
      "pygments_lexer": "ipython3",
      "version": "3.9.12"
    }
  },
  "nbformat": 4,
  "nbformat_minor": 0
}
