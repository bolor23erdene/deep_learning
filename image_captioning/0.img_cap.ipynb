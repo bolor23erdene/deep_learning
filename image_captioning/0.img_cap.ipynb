{
 "cells": [
  {
   "cell_type": "code",
   "execution_count": 2,
   "metadata": {},
   "outputs": [],
   "source": [
    "#!pip3 install torchvision==0.12.0\n",
    "#!pip3 install torch==1.11.0\n",
    "#!pip3 install torchtext==0.12.0\n",
    "#!python3 -m spacy download en_core_web_sm"
   ]
  },
  {
   "cell_type": "code",
   "execution_count": 3,
   "metadata": {},
   "outputs": [
    {
     "name": "stdout",
     "output_type": "stream",
     "text": [
      "1.11.0 0.12.0 3.3.1\n"
     ]
    }
   ],
   "source": [
    "import torch.nn as nn\n",
    "import torchvision.models as models\n",
    "import torch\n",
    "\n",
    "import os\n",
    "import pandas\n",
    "import spacy\n",
    "import torchtext\n",
    "\n",
    "from torch.nn.utils.rnn import pad_sequence\n",
    "from torch.utils.data import DataLoader, Dataset\n",
    "\n",
    "from PIL import Image\n",
    "from torchvision.transforms import transforms\n",
    "\n",
    "# python3 -m spacy download en_core_web_sm\n",
    "\n",
    "print(torch.__version__, torchtext.__version__, spacy.__version__)\n",
    "\n",
    "spacy_eng = spacy.load(\"en_core_web_sm\")\n"
   ]
  },
  {
   "cell_type": "code",
   "execution_count": 4,
   "metadata": {},
   "outputs": [],
   "source": [
    "\n",
    "class Vocabulary:\n",
    "    def __init__(self, freq_threshold):\n",
    "        \n",
    "        self.itos = {0: \"<PAD>\", 1: \"<SOS>\", 2: \"<EOS>\", 3: \"<UNK>\"}\n",
    "        self.stoi = {\"<PAD>\": 0, \"<SOS>\": 1, \"<EOS>\": 2, \"<UNK>\": 3}\n",
    "        \n",
    "        self.freq_threshold = freq_threshold\n",
    "    \n",
    "    def __len__(self):\n",
    "        return len(self.itos)\n",
    "    \n",
    "    @staticmethod\n",
    "    def tokenizer_eng(text):\n",
    "        return [tok.text.lower() for tok in spacy_eng.tokenizer(text)]\n",
    "    \n",
    "    def build_vocabulary(self,sentences):\n",
    "        idx = 4\n",
    "        frequency = {}\n",
    "        \n",
    "        for sentence in sentences:\n",
    "            for word in self.tokenizer_eng(sentence):\n",
    "                if word not in frequency:\n",
    "                    frequency[word] = 1\n",
    "                else:\n",
    "                    frequency[word] += 1\n",
    "                \n",
    "                if (frequency[word] > self.freq_threshold-1):\n",
    "                    self.itos[idx] = word\n",
    "                    self.stoi[word] = idx\n",
    "                    idx += 1\n",
    "    \n",
    "    def numericalize(self,sentence):\n",
    "        tokenized_text = self.tokenizer_eng(sentence)\n",
    "        \n",
    "        return [self.stoi[word] if word in self.stoi else self.stoi[\"<UNK>\"] for word in tokenized_text ]\n",
    "                    \n",
    "        \n",
    "annotation = pandas.read_csv(\"./flickr8k/captions.txt\")\n"
   ]
  },
  {
   "cell_type": "code",
   "execution_count": 5,
   "metadata": {},
   "outputs": [],
   "source": [
    "\n",
    "class FlickrDataset(Dataset):\n",
    "    def __init__(self, root_dir=\"./flickr8k/images\", caption_path=\"./flickr8k/captions.txt\", freq_threshold=5, transform=None, data_length=10000):\n",
    "        self.freq_threshold = freq_threshold\n",
    "        self.transform = transform\n",
    "        self.root_dir = root_dir\n",
    "    \n",
    "        self.df = pandas.read_csv(caption_path)[:data_length]\n",
    "        \n",
    "        self.captions = self.df['caption']\n",
    "        self.images = self.df['image']\n",
    "        \n",
    "        self.vocab = Vocabulary(freq_threshold)\n",
    "        \n",
    "        print(len(self.captions.tolist()))\n",
    "        self.vocab.build_vocabulary(self.captions.tolist())\n",
    "    \n",
    "    def __len__(self):\n",
    "        return len(self.df)\n",
    "    \n",
    "    def __getitem__(self, index):\n",
    "        caption = self.captions[index]\n",
    "        image = self.images[index]\n",
    "        \n",
    "        img = Image.open(os.path.join(self.root_dir,image)).convert(\"RGB\")\n",
    "        \n",
    "        if (self.transform):\n",
    "            img = self.transform(img)\n",
    "        \n",
    "        numericalized_caption = [self.vocab.stoi[\"<SOS>\"]]\n",
    "        \n",
    "        numericalized_caption += self.vocab.numericalize(caption)\n",
    "        \n",
    "        numericalized_caption.append(self.vocab.stoi[\"<EOS>\"])\n",
    "        \n",
    "        return img, torch.tensor(numericalized_caption)\n",
    "\n",
    "class MyCollate:\n",
    "    def __init__(self, pad_value):\n",
    "        self.pad_value = pad_value\n",
    "    \n",
    "    def __call__(self,batch):\n",
    "        imgs = [item[0].unsqueeze(0) for item in batch]\n",
    "        img = torch.cat(imgs, dim=0)\n",
    "        targets = [item[1] for item in batch]\n",
    "        targets = pad_sequence(targets, batch_first=False, padding_value=self.pad_value)\n",
    "        \n",
    "        return img, targets\n",
    "\n",
    "\n",
    "transform = transforms.Compose(\n",
    "        [\n",
    "            transforms.Resize((356, 356)),\n",
    "            transforms.RandomCrop((299, 299)),\n",
    "            transforms.ToTensor(),\n",
    "            transforms.Normalize((0.5, 0.5, 0.5), (0.5, 0.5, 0.5)),\n",
    "        ]\n",
    "    )\n",
    "\n",
    "def get_loader(root_dir=\"./flickr8k/images\", caption_path=\"./flickr8k/captions.txt\", transform=transform, batch_size=32, shuffle=True, pin_memory=True):\n",
    "    dataset = FlickrDataset(root_dir=root_dir,caption_path=caption_path, transform=transform)\n",
    "    pad_value = dataset.vocab.stoi[\"<PAD>\"]\n",
    "    \n",
    "    loader = DataLoader(dataset=dataset, batch_size=32, shuffle=True, pin_memory=True, collate_fn=MyCollate(pad_value))\n",
    "    \n",
    "    return loader, dataset\n",
    "\n"
   ]
  },
  {
   "cell_type": "code",
   "execution_count": 6,
   "metadata": {},
   "outputs": [
    {
     "name": "stdout",
     "output_type": "stream",
     "text": [
      "10000\n"
     ]
    }
   ],
   "source": [
    "\n",
    "loader, dataset = get_loader()\n",
    "\n"
   ]
  },
  {
   "cell_type": "code",
   "execution_count": 7,
   "metadata": {},
   "outputs": [
    {
     "name": "stdout",
     "output_type": "stream",
     "text": [
      "torch.Size([32, 3, 299, 299]) torch.Size([23, 32])\n"
     ]
    }
   ],
   "source": [
    "for image, text in loader:\n",
    "    print(image.shape, text.shape)\n",
    "    break"
   ]
  },
  {
   "cell_type": "code",
   "execution_count": 8,
   "metadata": {},
   "outputs": [
    {
     "name": "stderr",
     "output_type": "stream",
     "text": [
      "Clipping input data to the valid range for imshow with RGB data ([0..1] for floats or [0..255] for integers).\n"
     ]
    },
    {
     "name": "stdout",
     "output_type": "stream",
     "text": [
      "tensor([     1, 108926, 108663, 108917, 108664, 108889, 108926, 108830, 106927,\n",
      "        108925,      2])\n"
     ]
    },
    {
     "data": {
      "image/png": "[encoded data removed]",
      "text/plain": [
       "<Figure size 432x288 with 1 Axes>"
      ]
     },
     "metadata": {
      "needs_background": "light"
     },
     "output_type": "display_data"
    }
   ],
   "source": [
    "\n",
    "import random\n",
    "import math\n",
    "\n",
    "x, y = dataset[math.floor(random.random() * len(dataset))]\n",
    "x.shape, y.shape\n",
    "\n",
    "\n",
    "import matplotlib.pyplot as plt\n",
    "\n",
    "plt.imshow(x.permute(1,2,0))\n",
    "print(y)\n",
    "\n",
    "# print(dataset.vocab.itos[1])\n"
   ]
  },
  {
   "cell_type": "code",
   "execution_count": 9,
   "metadata": {},
   "outputs": [
    {
     "name": "stdout",
     "output_type": "stream",
     "text": [
      "<SOS> a dog is running through a green yard . <EOS> "
     ]
    }
   ],
   "source": [
    "\n",
    "for i in y:\n",
    "    print(dataset.vocab.itos[int(i)],end=\" \")\n",
    "\n",
    "\n",
    "def save_checkpoint(state, filename = \"my_checkpoint.pth.tar\"):\n",
    "    print(\"saving checkpoint!\")\n",
    "    torch.save(state, filename)\n",
    "\n",
    "def load_checkpoint(checkpoint, model, optimizer):\n",
    "    print(\"loading checkpoint!\")\n",
    "    model.load_state_dict(checkpoint[\"state_dict\"])\n",
    "    model.load_state_optimizer(checkpoint[\"optimizer\"])\n",
    "    step = checkpoint[\"step\"]\n",
    "    return step\n",
    "\n",
    "from tqdm import tqdm\n",
    "\n",
    "torch.backends.cudnn.benchmark = True\n",
    "device = torch.device('cuda' if torch.cuda.is_available() else 'cpu')\n",
    "load_model = False\n",
    "save_model = False\n",
    "train_CNN = False"
   ]
  },
  {
   "cell_type": "code",
   "execution_count": 10,
   "metadata": {},
   "outputs": [],
   "source": [
    "import torch.optim as optim \n",
    "\n",
    "step = 0\n",
    "embed_size = 256\n",
    "hidden_size = 256\n",
    "num_layers = 5\n",
    "num_epochs = 5\n",
    "learning_rate = 3e-4\n",
    "vocab_size = len(dataset.vocab)"
   ]
  },
  {
   "cell_type": "code",
   "execution_count": 11,
   "metadata": {},
   "outputs": [
    {
     "data": {
      "text/plain": [
       "Linear(in_features=2048, out_features=1000, bias=True)"
      ]
     },
     "execution_count": 11,
     "metadata": {},
     "output_type": "execute_result"
    }
   ],
   "source": [
    "new_model = models.inception_v3(pretrained=True, aux_logits=False)\n",
    "new_model.fc"
   ]
  },
  {
   "cell_type": "code",
   "execution_count": 12,
   "metadata": {},
   "outputs": [],
   "source": [
    "class encoder(nn.Module):\n",
    "    def __init__(self, emb_size):\n",
    "        super(encoder, self).__init__()\n",
    "        self.inception = models.inception_v3(pretrained=True, aux_logits=False)\n",
    "        self.inception.fc = nn.Linear(self.inception.fc.in_features, emb_size)\n",
    "        self.relu = nn.ReLU()\n",
    "\n",
    "    def forward(self, x):\n",
    "        features = self.inception(x)\n",
    "\n",
    "        # should not do backpropagation and update the model weights\n",
    "        for name, param in self.inception.named_parameters():\n",
    "            param.requires_grad = False\n",
    "\n",
    "        print(features.shape) # batch x emb_size\n",
    "        return features"
   ]
  },
  {
   "cell_type": "code",
   "execution_count": 14,
   "metadata": {},
   "outputs": [],
   "source": [
    "class decoder(nn.Module):\n",
    "    def __init__(self, emb_size, vocab_size, hid_size, num_layers):\n",
    "        super(decoder, self).__init__()\n",
    "        self.embedding = nn.Embedding(vocab_size, emb_size)\n",
    "        self.lstm = nn.LSTM(emb_size, hid_size, num_layers = num_layers, bidirectional = False)\n",
    "        self.linear = nn.Linear(hid_size, vocab_size)\n",
    "        \n",
    "    def forward(self, features, caption):\n",
    "        embedded_caption = self.embedding(caption)\n",
    "\n",
    "        # features = 1 x batch x emb_size \n",
    "        # embedded_caption = seq_len x batch x emb_size \n",
    "        print(features.shape, embedded_caption.shape)\n",
    "        embedded_image_and_caption = torch.cat((features.unsqueeze(0), embedded_caption), dim=0)\n",
    "\n",
    "        # lstm_out = (seq_len + 1) x batch x hidden_size \n",
    "        print(embedded_image_and_caption.shape)\n",
    "        lstm_out, _ = self.lstm(embedded_image_and_caption)\n",
    "\n",
    "        # outputs = (seq_len + 1) x batch x vocab_size \n",
    "        outputs = self.linear(lstm_out)\n",
    "\n",
    "        print(outputs)\n",
    "        return outputs "
   ]
  },
  {
   "cell_type": "code",
   "execution_count": 15,
   "metadata": {},
   "outputs": [],
   "source": [
    "class seq2seq(nn.Module):\n",
    "    def __init__(self, embed_size, vocab_size, hidden_size, num_layers):\n",
    "        super(seq2seq, self).__init__()\n",
    "        self.encoder = encoder(embed_size)\n",
    "        self.decoder = decoder(embed_size, vocab_size, hidden_size, num_layers)\n",
    "\n",
    "    def forward(self, images, caption):\n",
    "        x = self.encoder(images)\n",
    "        x = self.decoder(x, caption)\n",
    "        return x \n",
    "        "
   ]
  },
  {
   "cell_type": "code",
   "execution_count": 16,
   "metadata": {},
   "outputs": [],
   "source": [
    "model = seq2seq(embed_size=embed_size, hidden_size=hidden_size, vocab_size=vocab_size, num_layers=num_layers).to(device=device)"
   ]
  },
  {
   "cell_type": "code",
   "execution_count": 17,
   "metadata": {},
   "outputs": [
    {
     "data": {
      "text/plain": [
       "decoder(\n",
       "  (embedding): Embedding(108931, 256)\n",
       "  (lstm): LSTM(256, 256, num_layers=5)\n",
       "  (linear): Linear(in_features=256, out_features=108931, bias=True)\n",
       ")"
      ]
     },
     "execution_count": 17,
     "metadata": {},
     "output_type": "execute_result"
    }
   ],
   "source": [
    "model.decoder"
   ]
  },
  {
   "cell_type": "code",
   "execution_count": 18,
   "metadata": {},
   "outputs": [],
   "source": [
    "loss_criterion = nn.CrossEntropyLoss(ignore_index=dataset.vocab.stoi[\"<PAD>\"])\n",
    "optimizer = optim.Adam(model.parameters(), lr = learning_rate)"
   ]
  },
  {
   "cell_type": "code",
   "execution_count": 19,
   "metadata": {},
   "outputs": [],
   "source": [
    "if load_model:\n",
    "    step = load_checkpoint(torch.load(\"my_checkpoint.pth.tar\"), model, optimizer)"
   ]
  },
  {
   "cell_type": "code",
   "execution_count": 23,
   "metadata": {},
   "outputs": [
    {
     "name": "stdout",
     "output_type": "stream",
     "text": [
      "torch.Size([32, 3, 299, 299]) torch.Size([24, 32])\n",
      "torch.Size([32, 256])\n",
      "torch.Size([32, 256]) torch.Size([23, 32, 256])\n",
      "torch.Size([24, 32, 256])\n",
      "tensor([[[-0.0271,  0.0668,  0.0942,  ...,  0.0340,  0.0337, -0.0137],\n",
      "         [-0.0293,  0.0690,  0.0995,  ...,  0.0359,  0.0367, -0.0132],\n",
      "         [-0.0265,  0.0662,  0.0928,  ...,  0.0335,  0.0329, -0.0138],\n",
      "         ...,\n",
      "         [-0.0262,  0.0659,  0.0921,  ...,  0.0332,  0.0325, -0.0139],\n",
      "         [-0.0258,  0.0655,  0.0911,  ...,  0.0328,  0.0319, -0.0139],\n",
      "         [-0.0236,  0.0632,  0.0856,  ...,  0.0309,  0.0289, -0.0144]],\n",
      "\n",
      "        [[-0.2947,  0.3493,  0.7143,  ...,  0.2630,  0.3814,  0.0576],\n",
      "         [-0.3110,  0.3663,  0.7528,  ...,  0.2778,  0.4026,  0.0619],\n",
      "         [-0.2904,  0.3447,  0.7039,  ...,  0.2589,  0.3758,  0.0565],\n",
      "         ...,\n",
      "         [-0.2877,  0.3421,  0.6978,  ...,  0.2566,  0.3724,  0.0558],\n",
      "         [-0.2850,  0.3392,  0.6913,  ...,  0.2541,  0.3688,  0.0551],\n",
      "         [-0.2668,  0.3202,  0.6482,  ...,  0.2377,  0.3451,  0.0503]],\n",
      "\n",
      "        [[-0.9989,  1.0823,  2.3183,  ...,  0.9207,  1.2647,  0.2388],\n",
      "         [-1.0243,  1.1077,  2.3754,  ...,  0.9453,  1.2958,  0.2446],\n",
      "         [-0.9785,  1.0616,  2.2746,  ...,  0.9006,  1.2412,  0.2338],\n",
      "         ...,\n",
      "         [-0.9664,  1.0494,  2.2488,  ...,  0.8887,  1.2272,  0.2307],\n",
      "         [-0.9832,  1.0666,  2.2831,  ...,  0.9056,  1.2455,  0.2352],\n",
      "         [-0.9353,  1.0183,  2.1781,  ...,  0.8590,  1.1886,  0.2235]],\n",
      "\n",
      "        ...,\n",
      "\n",
      "        [[-2.0190,  1.9128,  4.4832,  ...,  1.8054,  2.4693,  0.4078],\n",
      "         [-2.0190,  1.9128,  4.4833,  ...,  1.8054,  2.4694,  0.4078],\n",
      "         [-2.0190,  1.9128,  4.4832,  ...,  1.8054,  2.4693,  0.4078],\n",
      "         ...,\n",
      "         [-2.0189,  1.9127,  4.4831,  ...,  1.8053,  2.4693,  0.4079],\n",
      "         [-2.0190,  1.9128,  4.4833,  ...,  1.8054,  2.4693,  0.4078],\n",
      "         [-2.0189,  1.9127,  4.4831,  ...,  1.8053,  2.4693,  0.4079]],\n",
      "\n",
      "        [[-2.0190,  1.9128,  4.4832,  ...,  1.8054,  2.4693,  0.4078],\n",
      "         [-2.0190,  1.9128,  4.4833,  ...,  1.8054,  2.4694,  0.4078],\n",
      "         [-2.0190,  1.9128,  4.4832,  ...,  1.8054,  2.4693,  0.4078],\n",
      "         ...,\n",
      "         [-2.0189,  1.9127,  4.4831,  ...,  1.8053,  2.4693,  0.4079],\n",
      "         [-2.0190,  1.9128,  4.4833,  ...,  1.8054,  2.4693,  0.4078],\n",
      "         [-2.0189,  1.9127,  4.4831,  ...,  1.8053,  2.4693,  0.4079]],\n",
      "\n",
      "        [[-2.0189,  1.9127,  4.4832,  ...,  1.8054,  2.4693,  0.4078],\n",
      "         [-2.0190,  1.9128,  4.4833,  ...,  1.8054,  2.4694,  0.4078],\n",
      "         [-2.0190,  1.9128,  4.4833,  ...,  1.8054,  2.4693,  0.4078],\n",
      "         ...,\n",
      "         [-2.0189,  1.9127,  4.4831,  ...,  1.8053,  2.4693,  0.4079],\n",
      "         [-2.0190,  1.9128,  4.4833,  ...,  1.8054,  2.4693,  0.4078],\n",
      "         [-2.0189,  1.9127,  4.4831,  ...,  1.8053,  2.4693,  0.4079]]],\n",
      "       grad_fn=<AddBackward0>)\n",
      "score:  torch.Size([24, 32, 108931]) torch.FloatTensor captions:  torch.Size([24, 32]) torch.LongTensor\n",
      "Loss for epoch 0: 8.793909072875977\n"
     ]
    }
   ],
   "source": [
    "model.train()\n",
    "\n",
    "for epoch in range(1):\n",
    "\n",
    "    for idx, (imgs, captions) in enumerate(loader):\n",
    "          \n",
    "        optimizer.zero_grad()\n",
    "\n",
    "        imgs = imgs.to(device)\n",
    "        captions = captions.to(device)\n",
    "        \n",
    "        print(imgs.shape, captions.shape)\n",
    "\n",
    "        score = model(imgs, captions[:-1])\n",
    "\n",
    "        print(\"score: \", score.shape, score.type(), \"captions: \", captions.shape, captions.type())\n",
    "\n",
    "        loss = loss_criterion(score.reshape(-1, score.shape[2]), captions.reshape(-1))\n",
    "        \n",
    "        step += 1\n",
    "        \n",
    "        loss.backward()\n",
    "        optimizer.step()\n",
    "        break\n",
    "        \n",
    "    print(f\"Loss for epoch {epoch}: {loss}\")"
   ]
  },
  {
   "cell_type": "code",
   "execution_count": null,
   "metadata": {},
   "outputs": [],
   "source": []
  },
  {
   "cell_type": "code",
   "execution_count": null,
   "metadata": {},
   "outputs": [],
   "source": []
  }
 ],
 "metadata": {
  "kernelspec": {
   "display_name": "Python 3 (ipykernel)",
   "language": "python",
   "name": "python3"
  },
  "language_info": {
   "codemirror_mode": {
    "name": "ipython",
    "version": 3
   },
   "file_extension": ".py",
   "mimetype": "text/x-python",
   "name": "python",
   "nbconvert_exporter": "python",
   "pygments_lexer": "ipython3",
   "version": "3.9.12"
  },
  "orig_nbformat": 4
 },
 "nbformat": 4,
 "nbformat_minor": 2
}
